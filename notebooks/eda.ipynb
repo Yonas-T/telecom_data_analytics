{
 "cells": [
  {
   "cell_type": "code",
   "execution_count": 189,
   "metadata": {},
   "outputs": [],
   "source": [
    "import pandas as pd\n",
    "import numpy as np\n",
    "import matplotlib.pyplot as plt\n",
    "import seaborn as sns\n",
    "import sklearn\n",
    "from IPython.display import display"
   ]
  },
  {
   "cell_type": "code",
   "execution_count": 181,
   "metadata": {},
   "outputs": [],
   "source": [
    "cleaned_df = pd.read_csv('../data/cleaned_data_source.csv')"
   ]
  },
  {
   "cell_type": "code",
   "execution_count": 55,
   "metadata": {},
   "outputs": [
    {
     "data": {
      "text/plain": [
       "0         3.360100e+10\n",
       "1         3.360100e+10\n",
       "2         3.360100e+10\n",
       "3         3.360101e+10\n",
       "4         3.360101e+10\n",
       "              ...     \n",
       "106467    3.379000e+10\n",
       "106468    4.188282e+10\n",
       "106469    3.197020e+12\n",
       "106470    3.370000e+14\n",
       "106471    8.823970e+14\n",
       "Name: MSISDN/Number, Length: 106472, dtype: float64"
      ]
     },
     "execution_count": 55,
     "metadata": {},
     "output_type": "execute_result"
    }
   ],
   "source": [
    "cleaned_df['MSISDN/Number']"
   ]
  },
  {
   "cell_type": "code",
   "execution_count": 191,
   "metadata": {},
   "outputs": [
    {
     "data": {
      "text/plain": [
       "count    106472.000000\n",
       "mean          1.399523\n",
       "std           1.738908\n",
       "min           1.000000\n",
       "25%           1.000000\n",
       "50%           1.000000\n",
       "75%           2.000000\n",
       "max         504.000000\n",
       "Name: Bearer Id, dtype: float64"
      ]
     },
     "execution_count": 191,
     "metadata": {},
     "output_type": "execute_result"
    }
   ],
   "source": [
    "cleaned_df['Bearer Id'].describe()"
   ]
  },
  {
   "cell_type": "code",
   "execution_count": 171,
   "metadata": {},
   "outputs": [
    {
     "data": {
      "text/plain": [
       "count    1.064720e+05\n",
       "mean     1.469026e+05\n",
       "std      2.155861e+05\n",
       "min      7.142000e+03\n",
       "25%      7.240025e+04\n",
       "50%      1.031375e+05\n",
       "75%      1.727990e+05\n",
       "max      3.539920e+07\n",
       "Name: Dur. (ms), dtype: float64"
      ]
     },
     "execution_count": 171,
     "metadata": {},
     "output_type": "execute_result"
    }
   ],
   "source": [
    "cleaned_df['Dur. (ms)'].describe()"
   ]
  },
  {
   "cell_type": "code",
   "execution_count": 172,
   "metadata": {},
   "outputs": [
    {
     "data": {
      "text/plain": [
       "count    106472.000000\n",
       "mean        693.899454\n",
       "std         918.963548\n",
       "min          33.249009\n",
       "25%         358.770974\n",
       "50%         618.332719\n",
       "75%         857.880507\n",
       "max      254052.402468\n",
       "Name: Total UL/DL, dtype: float64"
      ]
     },
     "execution_count": 172,
     "metadata": {},
     "output_type": "execute_result"
    }
   ],
   "source": [
    "cleaned_df['Total UL/DL'].describe()"
   ]
  },
  {
   "cell_type": "code",
   "execution_count": 182,
   "metadata": {},
   "outputs": [
    {
     "data": {
      "text/plain": [
       "count    106472.000000\n",
       "mean         31.688944\n",
       "std          40.968200\n",
       "min           0.078903\n",
       "25%          18.637068\n",
       "50%          26.816405\n",
       "75%          37.957246\n",
       "max       11447.654394\n",
       "Name: Total Youtube, dtype: float64"
      ]
     },
     "execution_count": 182,
     "metadata": {},
     "output_type": "execute_result"
    }
   ],
   "source": [
    "cleaned_df['Total Youtube'].describe()\n",
    "\n",
    "\n"
   ]
  },
  {
   "cell_type": "code",
   "execution_count": 183,
   "metadata": {},
   "outputs": [
    {
     "data": {
      "text/plain": [
       "count    106472.000000\n",
       "mean         31.669324\n",
       "std          40.664455\n",
       "min           0.184569\n",
       "25%          18.570117\n",
       "50%          26.731202\n",
       "75%          38.003051\n",
       "max       11332.644210\n",
       "Name: Total Netflix, dtype: float64"
      ]
     },
     "execution_count": 183,
     "metadata": {},
     "output_type": "execute_result"
    }
   ],
   "source": [
    "cleaned_df['Total Netflix'].describe()\n"
   ]
  },
  {
   "cell_type": "code",
   "execution_count": 184,
   "metadata": {},
   "outputs": [
    {
     "data": {
      "text/plain": [
       "count    106472.000000\n",
       "mean        602.329161\n",
       "std         811.547037\n",
       "min           0.306358\n",
       "25%         288.256023\n",
       "50%         542.692459\n",
       "75%         777.707319\n",
       "max      221065.748503\n",
       "Name: Total Gaming, dtype: float64"
      ]
     },
     "execution_count": 184,
     "metadata": {},
     "output_type": "execute_result"
    }
   ],
   "source": [
    "cleaned_df['Total Gaming'].describe()\n"
   ]
  },
  {
   "cell_type": "code",
   "execution_count": 185,
   "metadata": {},
   "outputs": [
    {
     "data": {
      "text/plain": [
       "count    106472.000000\n",
       "mean         10.927470\n",
       "std          14.175837\n",
       "min           0.040330\n",
       "25%           5.945678\n",
       "50%           9.592666\n",
       "75%          13.223274\n",
       "max        3925.359354\n",
       "Name: Total Google, dtype: float64"
      ]
     },
     "execution_count": 185,
     "metadata": {},
     "output_type": "execute_result"
    }
   ],
   "source": [
    "cleaned_df['Total Google'].describe()\n"
   ]
  },
  {
   "cell_type": "code",
   "execution_count": 186,
   "metadata": {},
   "outputs": [
    {
     "data": {
      "text/plain": [
       "count    106472.000000\n",
       "mean          2.660859\n",
       "std           4.083666\n",
       "min           0.000000\n",
       "25%           1.000000\n",
       "50%           2.000000\n",
       "75%           3.000000\n",
       "max        1116.000000\n",
       "Name: Total Email, dtype: float64"
      ]
     },
     "execution_count": 186,
     "metadata": {},
     "output_type": "execute_result"
    }
   ],
   "source": [
    "cleaned_df['Total Email'].describe()\n"
   ]
  },
  {
   "cell_type": "code",
   "execution_count": 187,
   "metadata": {},
   "outputs": [
    {
     "data": {
      "text/plain": [
       "count    106472.000000\n",
       "mean          2.558525\n",
       "std           3.430438\n",
       "min           0.001563\n",
       "25%           1.211944\n",
       "50%           2.305231\n",
       "75%           3.309054\n",
       "max         932.422807\n",
       "Name: Total Social Media, dtype: float64"
      ]
     },
     "execution_count": 187,
     "metadata": {},
     "output_type": "execute_result"
    }
   ],
   "source": [
    "cleaned_df['Total Social Media'].describe()"
   ]
  },
  {
   "cell_type": "code",
   "execution_count": 192,
   "metadata": {},
   "outputs": [
    {
     "data": {
      "text/plain": [
       "count    106472.000000\n",
       "mean        600.963054\n",
       "std         796.016990\n",
       "min           0.149045\n",
       "25%         285.875437\n",
       "50%         540.119620\n",
       "75%         775.651634\n",
       "max      215011.972057\n",
       "Name: Total Other, dtype: float64"
      ]
     },
     "execution_count": 192,
     "metadata": {},
     "output_type": "execute_result"
    }
   ],
   "source": [
    "cleaned_df['Total Other'].describe()"
   ]
  },
  {
   "cell_type": "code",
   "execution_count": 76,
   "metadata": {},
   "outputs": [
    {
     "data": {
      "text/html": [
       "<div>\n",
       "<style scoped>\n",
       "    .dataframe tbody tr th:only-of-type {\n",
       "        vertical-align: middle;\n",
       "    }\n",
       "\n",
       "    .dataframe tbody tr th {\n",
       "        vertical-align: top;\n",
       "    }\n",
       "\n",
       "    .dataframe thead th {\n",
       "        text-align: right;\n",
       "    }\n",
       "</style>\n",
       "<table border=\"1\" class=\"dataframe\">\n",
       "  <thead>\n",
       "    <tr style=\"text-align: right;\">\n",
       "      <th></th>\n",
       "      <th>MSISDN/Number</th>\n",
       "      <th>Bearer Id</th>\n",
       "      <th>Total UL/DL</th>\n",
       "      <th>Total HTTP</th>\n",
       "      <th>Total Youtube</th>\n",
       "      <th>Total Netflix</th>\n",
       "      <th>Total Gaming</th>\n",
       "      <th>Total Google</th>\n",
       "      <th>Total Email</th>\n",
       "      <th>Total Social Media</th>\n",
       "      <th>Total Other</th>\n",
       "      <th>Dur. (ms)</th>\n",
       "    </tr>\n",
       "  </thead>\n",
       "  <tbody>\n",
       "    <tr>\n",
       "      <th>0</th>\n",
       "      <td>3.360100e+10</td>\n",
       "      <td>1</td>\n",
       "      <td>878.690574</td>\n",
       "      <td>117.713325</td>\n",
       "      <td>21.624548</td>\n",
       "      <td>27.180981</td>\n",
       "      <td>812.458661</td>\n",
       "      <td>4.389005</td>\n",
       "      <td>1.0</td>\n",
       "      <td>2.232135</td>\n",
       "      <td>386.570872</td>\n",
       "      <td>116720.0</td>\n",
       "    </tr>\n",
       "    <tr>\n",
       "      <th>1</th>\n",
       "      <td>3.360100e+10</td>\n",
       "      <td>1</td>\n",
       "      <td>156.859643</td>\n",
       "      <td>117.713325</td>\n",
       "      <td>12.432223</td>\n",
       "      <td>11.221763</td>\n",
       "      <td>119.750078</td>\n",
       "      <td>5.334863</td>\n",
       "      <td>3.0</td>\n",
       "      <td>2.660565</td>\n",
       "      <td>281.710071</td>\n",
       "      <td>181230.0</td>\n",
       "    </tr>\n",
       "    <tr>\n",
       "      <th>2</th>\n",
       "      <td>3.360100e+10</td>\n",
       "      <td>1</td>\n",
       "      <td>595.966483</td>\n",
       "      <td>117.713325</td>\n",
       "      <td>21.333570</td>\n",
       "      <td>19.353900</td>\n",
       "      <td>538.827713</td>\n",
       "      <td>3.443126</td>\n",
       "      <td>3.0</td>\n",
       "      <td>3.195623</td>\n",
       "      <td>501.693672</td>\n",
       "      <td>134969.0</td>\n",
       "    </tr>\n",
       "    <tr>\n",
       "      <th>3</th>\n",
       "      <td>3.360101e+10</td>\n",
       "      <td>1</td>\n",
       "      <td>422.320698</td>\n",
       "      <td>0.009402</td>\n",
       "      <td>6.977321</td>\n",
       "      <td>1.942092</td>\n",
       "      <td>391.126127</td>\n",
       "      <td>9.678493</td>\n",
       "      <td>2.0</td>\n",
       "      <td>0.280294</td>\n",
       "      <td>35.279702</td>\n",
       "      <td>49878.0</td>\n",
       "    </tr>\n",
       "    <tr>\n",
       "      <th>4</th>\n",
       "      <td>3.360101e+10</td>\n",
       "      <td>2</td>\n",
       "      <td>1457.410944</td>\n",
       "      <td>307.655241</td>\n",
       "      <td>41.533002</td>\n",
       "      <td>49.201724</td>\n",
       "      <td>1314.797820</td>\n",
       "      <td>18.499616</td>\n",
       "      <td>3.0</td>\n",
       "      <td>2.912542</td>\n",
       "      <td>804.804484</td>\n",
       "      <td>37104.0</td>\n",
       "    </tr>\n",
       "  </tbody>\n",
       "</table>\n",
       "</div>"
      ],
      "text/plain": [
       "   MSISDN/Number  Bearer Id  Total UL/DL  Total HTTP  Total Youtube  \\\n",
       "0   3.360100e+10          1   878.690574  117.713325      21.624548   \n",
       "1   3.360100e+10          1   156.859643  117.713325      12.432223   \n",
       "2   3.360100e+10          1   595.966483  117.713325      21.333570   \n",
       "3   3.360101e+10          1   422.320698    0.009402       6.977321   \n",
       "4   3.360101e+10          2  1457.410944  307.655241      41.533002   \n",
       "\n",
       "   Total Netflix  Total Gaming  Total Google  Total Email  Total Social Media  \\\n",
       "0      27.180981    812.458661      4.389005          1.0            2.232135   \n",
       "1      11.221763    119.750078      5.334863          3.0            2.660565   \n",
       "2      19.353900    538.827713      3.443126          3.0            3.195623   \n",
       "3       1.942092    391.126127      9.678493          2.0            0.280294   \n",
       "4      49.201724   1314.797820     18.499616          3.0            2.912542   \n",
       "\n",
       "   Total Other  Dur. (ms)  \n",
       "0   386.570872   116720.0  \n",
       "1   281.710071   181230.0  \n",
       "2   501.693672   134969.0  \n",
       "3    35.279702    49878.0  \n",
       "4   804.804484    37104.0  "
      ]
     },
     "execution_count": 76,
     "metadata": {},
     "output_type": "execute_result"
    }
   ],
   "source": [
    "cleaned_df.head()"
   ]
  },
  {
   "cell_type": "code",
   "execution_count": 61,
   "metadata": {},
   "outputs": [],
   "source": [
    "def plot_histogram(df: pd.DataFrame, column: str, color: str) -> None:\n",
    "        plt.figure(figsize=(8, 5))\n",
    "        sns.displot(data=df, x=column, color=color,height=7 ,aspect=3)\n",
    "        \n",
    "        plt.title(f'Distribution of {column}', size=20, fontweight='bold')\n",
    "        plt.xlim(0, df[column].max())\n",
    "        plt.show()"
   ]
  },
  {
   "cell_type": "markdown",
   "metadata": {},
   "source": [
    "Interpretation:"
   ]
  },
  {
   "cell_type": "code",
   "execution_count": 62,
   "metadata": {},
   "outputs": [
    {
     "data": {
      "text/plain": [
       "<Figure size 576x360 with 0 Axes>"
      ]
     },
     "metadata": {},
     "output_type": "display_data"
    },
    {
     "data": {
      "image/png": "[encoded data removed]",
      "text/plain": [
       "<Figure size 1512x504 with 1 Axes>"
      ]
     },
     "metadata": {
      "needs_background": "light"
     },
     "output_type": "display_data"
    }
   ],
   "source": [
    "plot_histogram(cleaned_df, 'Total UL/DL', 'blue') # univariate for total"
   ]
  },
  {
   "cell_type": "markdown",
   "metadata": {},
   "source": [
    "Interpretation:"
   ]
  },
  {
   "cell_type": "code",
   "execution_count": 63,
   "metadata": {},
   "outputs": [
    {
     "data": {
      "text/plain": [
       "<Figure size 576x360 with 0 Axes>"
      ]
     },
     "metadata": {},
     "output_type": "display_data"
    },
    {
     "data": {
      "image/png": "[encoded data removed]",
      "text/plain": [
       "<Figure size 1512x504 with 1 Axes>"
      ]
     },
     "metadata": {
      "needs_background": "light"
     },
     "output_type": "display_data"
    }
   ],
   "source": [
    "plot_histogram(cleaned_df, 'Total Youtube', 'grey') # univariate for total"
   ]
  },
  {
   "cell_type": "markdown",
   "metadata": {},
   "source": [
    "Interpretation:"
   ]
  },
  {
   "cell_type": "code",
   "execution_count": 64,
   "metadata": {},
   "outputs": [
    {
     "data": {
      "text/plain": [
       "<Figure size 576x360 with 0 Axes>"
      ]
     },
     "metadata": {},
     "output_type": "display_data"
    },
    {
     "data": {
      "image/png": "[encoded data removed]",
      "text/plain": [
       "<Figure size 1512x504 with 1 Axes>"
      ]
     },
     "metadata": {
      "needs_background": "light"
     },
     "output_type": "display_data"
    }
   ],
   "source": [
    "plot_histogram(cleaned_df, 'Total Netflix', 'grey') # univariate for total\n"
   ]
  },
  {
   "cell_type": "markdown",
   "metadata": {},
   "source": [
    "Interpretation:"
   ]
  },
  {
   "cell_type": "code",
   "execution_count": 66,
   "metadata": {},
   "outputs": [
    {
     "data": {
      "text/plain": [
       "<Figure size 576x360 with 0 Axes>"
      ]
     },
     "metadata": {},
     "output_type": "display_data"
    },
    {
     "data": {
      "image/png": "[encoded data removed]",
      "text/plain": [
       "<Figure size 1512x504 with 1 Axes>"
      ]
     },
     "metadata": {
      "needs_background": "light"
     },
     "output_type": "display_data"
    }
   ],
   "source": [
    "# Total Gaming\tTotal Google\tTotal Email\tTotal Social Media\tTotal Other\n",
    "plot_histogram(cleaned_df, 'Total Gaming', 'red') # univariate for total\n"
   ]
  },
  {
   "cell_type": "markdown",
   "metadata": {},
   "source": [
    "Interpretation:"
   ]
  },
  {
   "cell_type": "code",
   "execution_count": 68,
   "metadata": {},
   "outputs": [
    {
     "data": {
      "text/plain": [
       "<Figure size 576x360 with 0 Axes>"
      ]
     },
     "metadata": {},
     "output_type": "display_data"
    },
    {
     "data": {
      "image/png": "[encoded data removed]",
      "text/plain": [
       "<Figure size 1512x504 with 1 Axes>"
      ]
     },
     "metadata": {
      "needs_background": "light"
     },
     "output_type": "display_data"
    }
   ],
   "source": [
    "# Total Gaming\tTotal Google\tTotal Email\tTotal Social Media\tTotal Other\n",
    "plot_histogram(cleaned_df, 'Total Google', 'violet') # univariate for total\n"
   ]
  },
  {
   "cell_type": "markdown",
   "metadata": {},
   "source": [
    "Interpretation:"
   ]
  },
  {
   "cell_type": "code",
   "execution_count": 67,
   "metadata": {},
   "outputs": [
    {
     "data": {
      "text/plain": [
       "<Figure size 576x360 with 0 Axes>"
      ]
     },
     "metadata": {},
     "output_type": "display_data"
    },
    {
     "data": {
      "image/png": "[encoded data removed]",
      "text/plain": [
       "<Figure size 1512x504 with 1 Axes>"
      ]
     },
     "metadata": {
      "needs_background": "light"
     },
     "output_type": "display_data"
    }
   ],
   "source": [
    "# Total Gaming\tTotal Google\tTotal Email\tTotal Social Media\tTotal Other\n",
    "plot_histogram(cleaned_df, 'Total Google', 'orange') # univariate for total\n"
   ]
  },
  {
   "cell_type": "markdown",
   "metadata": {},
   "source": [
    "Interpretation:"
   ]
  },
  {
   "cell_type": "code",
   "execution_count": 71,
   "metadata": {},
   "outputs": [
    {
     "data": {
      "text/plain": [
       "<Figure size 576x360 with 0 Axes>"
      ]
     },
     "metadata": {},
     "output_type": "display_data"
    },
    {
     "data": {
      "image/png": "[encoded data removed]",
      "text/plain": [
       "<Figure size 1512x504 with 1 Axes>"
      ]
     },
     "metadata": {
      "needs_background": "light"
     },
     "output_type": "display_data"
    }
   ],
   "source": [
    "# \tTotal Social Media\tTotal Other\n",
    "plot_histogram(cleaned_df, 'Total Email', 'brown') # univariate for total\n"
   ]
  },
  {
   "cell_type": "markdown",
   "metadata": {},
   "source": [
    "Interpretation:"
   ]
  },
  {
   "cell_type": "code",
   "execution_count": 72,
   "metadata": {},
   "outputs": [
    {
     "data": {
      "text/plain": [
       "<Figure size 576x360 with 0 Axes>"
      ]
     },
     "metadata": {},
     "output_type": "display_data"
    },
    {
     "data": {
      "image/png": "[encoded data removed]",
      "text/plain": [
       "<Figure size 1512x504 with 1 Axes>"
      ]
     },
     "metadata": {
      "needs_background": "light"
     },
     "output_type": "display_data"
    }
   ],
   "source": [
    "# \tTotal Other\n",
    "plot_histogram(cleaned_df, 'Total Social Media', 'orange') # univariate for total\n"
   ]
  },
  {
   "cell_type": "markdown",
   "metadata": {},
   "source": [
    "Interpretation:"
   ]
  },
  {
   "cell_type": "code",
   "execution_count": 73,
   "metadata": {},
   "outputs": [
    {
     "data": {
      "text/plain": [
       "<Figure size 576x360 with 0 Axes>"
      ]
     },
     "metadata": {},
     "output_type": "display_data"
    },
    {
     "data": {
      "image/png": "[encoded data removed]",
      "text/plain": [
       "<Figure size 1512x504 with 1 Axes>"
      ]
     },
     "metadata": {
      "needs_background": "light"
     },
     "output_type": "display_data"
    }
   ],
   "source": [
    "\n",
    "plot_histogram(cleaned_df, 'Total Other', 'orange') # univariate for total\n"
   ]
  },
  {
   "cell_type": "markdown",
   "metadata": {},
   "source": [
    "Feature Transformation:"
   ]
  },
  {
   "cell_type": "code",
   "execution_count": 162,
   "metadata": {},
   "outputs": [
    {
     "data": {
      "text/html": [
       "<div>\n",
       "<style scoped>\n",
       "    .dataframe tbody tr th:only-of-type {\n",
       "        vertical-align: middle;\n",
       "    }\n",
       "\n",
       "    .dataframe tbody tr th {\n",
       "        vertical-align: top;\n",
       "    }\n",
       "\n",
       "    .dataframe thead th {\n",
       "        text-align: right;\n",
       "    }\n",
       "</style>\n",
       "<table border=\"1\" class=\"dataframe\">\n",
       "  <thead>\n",
       "    <tr style=\"text-align: right;\">\n",
       "      <th></th>\n",
       "      <th>MSISDN/Number</th>\n",
       "      <th>Bearer Id</th>\n",
       "      <th>Total UL/DL</th>\n",
       "      <th>Total HTTP</th>\n",
       "      <th>Total Youtube</th>\n",
       "      <th>Total Netflix</th>\n",
       "      <th>Total Gaming</th>\n",
       "      <th>Total Google</th>\n",
       "      <th>Total Email</th>\n",
       "      <th>Total Social Media</th>\n",
       "      <th>Total Other</th>\n",
       "      <th>Dur. (ms)</th>\n",
       "      <th>Decile Rank</th>\n",
       "    </tr>\n",
       "  </thead>\n",
       "  <tbody>\n",
       "    <tr>\n",
       "      <th>0</th>\n",
       "      <td>3.360100e+10</td>\n",
       "      <td>1</td>\n",
       "      <td>878.690574</td>\n",
       "      <td>117.713325</td>\n",
       "      <td>21.624548</td>\n",
       "      <td>27.180981</td>\n",
       "      <td>812.458661</td>\n",
       "      <td>4.389005</td>\n",
       "      <td>1.0</td>\n",
       "      <td>2.232135</td>\n",
       "      <td>386.570872</td>\n",
       "      <td>116720.0</td>\n",
       "      <td>5</td>\n",
       "    </tr>\n",
       "    <tr>\n",
       "      <th>1</th>\n",
       "      <td>3.360100e+10</td>\n",
       "      <td>1</td>\n",
       "      <td>156.859643</td>\n",
       "      <td>117.713325</td>\n",
       "      <td>12.432223</td>\n",
       "      <td>11.221763</td>\n",
       "      <td>119.750078</td>\n",
       "      <td>5.334863</td>\n",
       "      <td>3.0</td>\n",
       "      <td>2.660565</td>\n",
       "      <td>281.710071</td>\n",
       "      <td>181230.0</td>\n",
       "      <td>7</td>\n",
       "    </tr>\n",
       "    <tr>\n",
       "      <th>2</th>\n",
       "      <td>3.360100e+10</td>\n",
       "      <td>1</td>\n",
       "      <td>595.966483</td>\n",
       "      <td>117.713325</td>\n",
       "      <td>21.333570</td>\n",
       "      <td>19.353900</td>\n",
       "      <td>538.827713</td>\n",
       "      <td>3.443126</td>\n",
       "      <td>3.0</td>\n",
       "      <td>3.195623</td>\n",
       "      <td>501.693672</td>\n",
       "      <td>134969.0</td>\n",
       "      <td>6</td>\n",
       "    </tr>\n",
       "    <tr>\n",
       "      <th>3</th>\n",
       "      <td>3.360101e+10</td>\n",
       "      <td>1</td>\n",
       "      <td>422.320698</td>\n",
       "      <td>0.009402</td>\n",
       "      <td>6.977321</td>\n",
       "      <td>1.942092</td>\n",
       "      <td>391.126127</td>\n",
       "      <td>9.678493</td>\n",
       "      <td>2.0</td>\n",
       "      <td>0.280294</td>\n",
       "      <td>35.279702</td>\n",
       "      <td>49878.0</td>\n",
       "      <td>1</td>\n",
       "    </tr>\n",
       "    <tr>\n",
       "      <th>4</th>\n",
       "      <td>3.360101e+10</td>\n",
       "      <td>2</td>\n",
       "      <td>1457.410944</td>\n",
       "      <td>307.655241</td>\n",
       "      <td>41.533002</td>\n",
       "      <td>49.201724</td>\n",
       "      <td>1314.797820</td>\n",
       "      <td>18.499616</td>\n",
       "      <td>3.0</td>\n",
       "      <td>2.912542</td>\n",
       "      <td>804.804484</td>\n",
       "      <td>37104.0</td>\n",
       "      <td>1</td>\n",
       "    </tr>\n",
       "    <tr>\n",
       "      <th>...</th>\n",
       "      <td>...</td>\n",
       "      <td>...</td>\n",
       "      <td>...</td>\n",
       "      <td>...</td>\n",
       "      <td>...</td>\n",
       "      <td>...</td>\n",
       "      <td>...</td>\n",
       "      <td>...</td>\n",
       "      <td>...</td>\n",
       "      <td>...</td>\n",
       "      <td>...</td>\n",
       "      <td>...</td>\n",
       "      <td>...</td>\n",
       "    </tr>\n",
       "    <tr>\n",
       "      <th>106467</th>\n",
       "      <td>3.379000e+10</td>\n",
       "      <td>1</td>\n",
       "      <td>480.307335</td>\n",
       "      <td>117.713325</td>\n",
       "      <td>19.851572</td>\n",
       "      <td>8.531060</td>\n",
       "      <td>437.003292</td>\n",
       "      <td>5.429705</td>\n",
       "      <td>2.0</td>\n",
       "      <td>0.498569</td>\n",
       "      <td>211.115113</td>\n",
       "      <td>140988.0</td>\n",
       "      <td>6</td>\n",
       "    </tr>\n",
       "    <tr>\n",
       "      <th>106468</th>\n",
       "      <td>4.188282e+10</td>\n",
       "      <td>504</td>\n",
       "      <td>254052.402468</td>\n",
       "      <td>20604.593174</td>\n",
       "      <td>11447.654394</td>\n",
       "      <td>11332.644210</td>\n",
       "      <td>221065.748503</td>\n",
       "      <td>3925.359354</td>\n",
       "      <td>1116.0</td>\n",
       "      <td>932.422807</td>\n",
       "      <td>215011.972057</td>\n",
       "      <td>35399200.0</td>\n",
       "      <td>9</td>\n",
       "    </tr>\n",
       "    <tr>\n",
       "      <th>106469</th>\n",
       "      <td>3.197020e+12</td>\n",
       "      <td>1</td>\n",
       "      <td>232.123971</td>\n",
       "      <td>117.713325</td>\n",
       "      <td>11.959905</td>\n",
       "      <td>26.592300</td>\n",
       "      <td>178.048738</td>\n",
       "      <td>10.438660</td>\n",
       "      <td>1.0</td>\n",
       "      <td>0.715224</td>\n",
       "      <td>470.526473</td>\n",
       "      <td>877385.0</td>\n",
       "      <td>9</td>\n",
       "    </tr>\n",
       "    <tr>\n",
       "      <th>106470</th>\n",
       "      <td>3.370000e+14</td>\n",
       "      <td>1</td>\n",
       "      <td>596.287824</td>\n",
       "      <td>117.713325</td>\n",
       "      <td>36.734940</td>\n",
       "      <td>30.905042</td>\n",
       "      <td>510.142695</td>\n",
       "      <td>9.830617</td>\n",
       "      <td>3.0</td>\n",
       "      <td>0.521566</td>\n",
       "      <td>149.188439</td>\n",
       "      <td>253030.0</td>\n",
       "      <td>8</td>\n",
       "    </tr>\n",
       "    <tr>\n",
       "      <th>106471</th>\n",
       "      <td>8.823970e+14</td>\n",
       "      <td>1</td>\n",
       "      <td>139.153646</td>\n",
       "      <td>117.713325</td>\n",
       "      <td>40.940710</td>\n",
       "      <td>28.846230</td>\n",
       "      <td>43.070260</td>\n",
       "      <td>9.218647</td>\n",
       "      <td>3.0</td>\n",
       "      <td>1.546088</td>\n",
       "      <td>401.360457</td>\n",
       "      <td>869844.0</td>\n",
       "      <td>9</td>\n",
       "    </tr>\n",
       "  </tbody>\n",
       "</table>\n",
       "<p>106472 rows × 13 columns</p>\n",
       "</div>"
      ],
      "text/plain": [
       "        MSISDN/Number  Bearer Id    Total UL/DL    Total HTTP  Total Youtube  \\\n",
       "0        3.360100e+10          1     878.690574    117.713325      21.624548   \n",
       "1        3.360100e+10          1     156.859643    117.713325      12.432223   \n",
       "2        3.360100e+10          1     595.966483    117.713325      21.333570   \n",
       "3        3.360101e+10          1     422.320698      0.009402       6.977321   \n",
       "4        3.360101e+10          2    1457.410944    307.655241      41.533002   \n",
       "...               ...        ...            ...           ...            ...   \n",
       "106467   3.379000e+10          1     480.307335    117.713325      19.851572   \n",
       "106468   4.188282e+10        504  254052.402468  20604.593174   11447.654394   \n",
       "106469   3.197020e+12          1     232.123971    117.713325      11.959905   \n",
       "106470   3.370000e+14          1     596.287824    117.713325      36.734940   \n",
       "106471   8.823970e+14          1     139.153646    117.713325      40.940710   \n",
       "\n",
       "        Total Netflix   Total Gaming  Total Google  Total Email  \\\n",
       "0           27.180981     812.458661      4.389005          1.0   \n",
       "1           11.221763     119.750078      5.334863          3.0   \n",
       "2           19.353900     538.827713      3.443126          3.0   \n",
       "3            1.942092     391.126127      9.678493          2.0   \n",
       "4           49.201724    1314.797820     18.499616          3.0   \n",
       "...               ...            ...           ...          ...   \n",
       "106467       8.531060     437.003292      5.429705          2.0   \n",
       "106468   11332.644210  221065.748503   3925.359354       1116.0   \n",
       "106469      26.592300     178.048738     10.438660          1.0   \n",
       "106470      30.905042     510.142695      9.830617          3.0   \n",
       "106471      28.846230      43.070260      9.218647          3.0   \n",
       "\n",
       "        Total Social Media    Total Other   Dur. (ms)  Decile Rank  \n",
       "0                 2.232135     386.570872    116720.0            5  \n",
       "1                 2.660565     281.710071    181230.0            7  \n",
       "2                 3.195623     501.693672    134969.0            6  \n",
       "3                 0.280294      35.279702     49878.0            1  \n",
       "4                 2.912542     804.804484     37104.0            1  \n",
       "...                    ...            ...         ...          ...  \n",
       "106467            0.498569     211.115113    140988.0            6  \n",
       "106468          932.422807  215011.972057  35399200.0            9  \n",
       "106469            0.715224     470.526473    877385.0            9  \n",
       "106470            0.521566     149.188439    253030.0            8  \n",
       "106471            1.546088     401.360457    869844.0            9  \n",
       "\n",
       "[106472 rows x 13 columns]"
      ]
     },
     "execution_count": 162,
     "metadata": {},
     "output_type": "execute_result"
    }
   ],
   "source": [
    "# cleaned_df.sort_values(by='Dur. (ms)', ascending=False)\n",
    "\n",
    "\n",
    "# min_duration = cleaned_df['Dur. (ms)'].min()\n",
    "# max_duration = cleaned_df['Dur. (ms)'].max()\n",
    "# decile = (max_duration - min_duration) / 10\n",
    "# decile_List = []\n",
    "# for i in range(10): \n",
    "#     # print(i)\n",
    "#     decile_List.append([min_duration + i * decile, min_duration + (i+1 * decile)])\n",
    "\n",
    "# # for i in range(len(decile_List)):\n",
    "# # cleaned_df.loc[(cleaned_df['Total UL/DL'] > decile_List[0][0]) & (cleaned_df['Total UL/DL'] < decile_List[0][1])]\n",
    "# cleaned_df.loc[(cleaned_df['Total UL/DL'] > decile_List[9][0]) & (cleaned_df['Total UL/DL'] < decile_List[9][1])]\n",
    "\n",
    "\n",
    "\n",
    "# print(decile)\n",
    "# print(decile_List)\n",
    "\n",
    "\n",
    "# print(min_duration)\n",
    "# print(max_duration)\n",
    "\n",
    "\n",
    "# adding Quantile_rank column to the DataFrame\n",
    "cleaned_df['Decile Rank'] =pd.qcut(cleaned_df['Dur. (ms)'], 10, labels = False).sort_values(ascending = False)\n",
    "cleaned_df\n"
   ]
  },
  {
   "cell_type": "markdown",
   "metadata": {},
   "source": [
    "Segmenting in decile rank:"
   ]
  },
  {
   "cell_type": "code",
   "execution_count": 169,
   "metadata": {},
   "outputs": [
    {
     "data": {
      "text/html": [
       "<div>\n",
       "<style scoped>\n",
       "    .dataframe tbody tr th:only-of-type {\n",
       "        vertical-align: middle;\n",
       "    }\n",
       "\n",
       "    .dataframe tbody tr th {\n",
       "        vertical-align: top;\n",
       "    }\n",
       "\n",
       "    .dataframe thead th {\n",
       "        text-align: right;\n",
       "    }\n",
       "</style>\n",
       "<table border=\"1\" class=\"dataframe\">\n",
       "  <thead>\n",
       "    <tr style=\"text-align: right;\">\n",
       "      <th></th>\n",
       "      <th>Decile Rank</th>\n",
       "      <th>Total UL/DL</th>\n",
       "    </tr>\n",
       "  </thead>\n",
       "  <tbody>\n",
       "    <tr>\n",
       "      <th>0</th>\n",
       "      <td>0</td>\n",
       "      <td>5.426099e+06</td>\n",
       "    </tr>\n",
       "    <tr>\n",
       "      <th>1</th>\n",
       "      <td>1</td>\n",
       "      <td>6.103710e+06</td>\n",
       "    </tr>\n",
       "    <tr>\n",
       "      <th>2</th>\n",
       "      <td>2</td>\n",
       "      <td>6.463459e+06</td>\n",
       "    </tr>\n",
       "    <tr>\n",
       "      <th>3</th>\n",
       "      <td>3</td>\n",
       "      <td>5.926922e+06</td>\n",
       "    </tr>\n",
       "    <tr>\n",
       "      <th>4</th>\n",
       "      <td>4</td>\n",
       "      <td>5.252112e+06</td>\n",
       "    </tr>\n",
       "  </tbody>\n",
       "</table>\n",
       "</div>"
      ],
      "text/plain": [
       "   Decile Rank   Total UL/DL\n",
       "0            0  5.426099e+06\n",
       "1            1  6.103710e+06\n",
       "2            2  6.463459e+06\n",
       "3            3  5.926922e+06\n",
       "4            4  5.252112e+06"
      ]
     },
     "execution_count": 169,
     "metadata": {},
     "output_type": "execute_result"
    }
   ],
   "source": [
    "\n",
    "def returnSum(item, df):\n",
    "    dfTopFive= df.groupby([\"Decile Rank\"])[item].agg([(item, \"sum\")]).reset_index()\n",
    "    dfTopFive.drop(dfTopFive.index.to_list()[5:] ,axis = 0, inplace = True)\n",
    "    return dfTopFive\n",
    "\n",
    "returnSum('Total UL/DL', cleaned_df)"
   ]
  },
  {
   "cell_type": "code",
   "execution_count": null,
   "metadata": {},
   "outputs": [],
   "source": []
  }
 ],
 "metadata": {
  "interpreter": {
   "hash": "7a69935e43806fbeb0b0712a166c2482a507bfc0fa6c7e0b66b69281dda3bb13"
  },
  "kernelspec": {
   "display_name": "Python 3.10.4 ('10academyEnv')",
   "language": "python",
   "name": "python3"
  },
  "language_info": {
   "codemirror_mode": {
    "name": "ipython",
    "version": 3
   },
   "file_extension": ".py",
   "mimetype": "text/x-python",
   "name": "python",
   "nbconvert_exporter": "python",
   "pygments_lexer": "ipython3",
   "version": "3.10.4"
  },
  "orig_nbformat": 4
 },
 "nbformat": 4,
 "nbformat_minor": 2
}
